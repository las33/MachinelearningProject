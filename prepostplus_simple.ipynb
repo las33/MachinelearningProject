{
 "cells": [
  {
   "cell_type": "code",
   "execution_count": 1,
   "metadata": {},
   "outputs": [],
   "source": [
    "# Limpar os dados\n",
    "# Criar o node\n",
    "# Criar a PPC\n",
    "# NLIST 1 ITEMSET\n",
    "# NLIST 2 ITEMSET"
   ]
  },
  {
   "cell_type": "code",
   "execution_count": 2,
   "metadata": {},
   "outputs": [],
   "source": [
    "import itertools\n",
    "import copy"
   ]
  },
  {
   "cell_type": "code",
   "execution_count": 3,
   "metadata": {},
   "outputs": [],
   "source": [
    "support = 2\n",
    "F = []\n",
    "input_file = 'entrada_teste.txt'"
   ]
  },
  {
   "cell_type": "code",
   "execution_count": 5,
   "metadata": {},
   "outputs": [],
   "source": [
    "def make_itemset_1(filename):\n",
    "    global support\n",
    "    itemset_1 = {}\n",
    "    with open(filename) as finput:\n",
    "        f = finput.read().split('\\n')\n",
    "        for line in f:\n",
    "            items = line.strip().split(' ')\n",
    "            for item in items:\n",
    "                if item not in itemset_1:\n",
    "                    itemset_1[item] = 0\n",
    "                itemset_1[item] += 1\n",
    "    \n",
    "    for k, v in list(itemset_1.items()):\n",
    "        if v < support:\n",
    "            del itemset_1[k]\n",
    "    return itemset_1\n",
    "\n",
    "\n",
    "itemset_1 = make_itemset_1(input_file)"
   ]
  },
  {
   "cell_type": "code",
   "execution_count": 6,
   "metadata": {},
   "outputs": [],
   "source": [
    "class PPCNode:\n",
    "    def __init__(self):\n",
    "        self.pre_order = None\n",
    "        self.post_order = None\n",
    "        self.count = None\n",
    "        self.label = None\n",
    "        self.parent = None\n",
    "        self.child = None\n",
    "        self.sibling = None\n",
    "\n",
    "\n",
    "class FPTNode:\n",
    "    def __init__(self):\n",
    "        self.equivalent_items = None\n",
    "        self.child_nodes = None\n",
    "        self.label = None\n",
    "        self.itemset = None\n",
    "        self.support = None"
   ]
  },
  {
   "cell_type": "code",
   "execution_count": 7,
   "metadata": {},
   "outputs": [],
   "source": [
    "def create_node(root, label):\n",
    "    node = PPCNode()\n",
    "    node.label = label\n",
    "    node.count = 1\n",
    "    node.parent = root\n",
    "    return node\n",
    "\n",
    "\n",
    "def insert_ppc_node(root, item):\n",
    "    if root.child is None:\n",
    "        node = create_node(root, item)\n",
    "        root.child = node\n",
    "        return root.child\n",
    "    elif root.child.label == item:\n",
    "        root.child.count += 1\n",
    "        return root.child\n",
    "    elif root.child.sibling is None:\n",
    "        node = create_node(root, item)\n",
    "        root.child.sibling = node\n",
    "        return root.child.sibling\n",
    "    else:\n",
    "        current_sibling = root.child.sibling\n",
    "        last_sibling = None\n",
    "        while current_sibling is not None:\n",
    "            if current_sibling.label == item:\n",
    "                current_sibling.count += 1\n",
    "                return current_sibling\n",
    "            else:\n",
    "                last_sibling = current_sibling\n",
    "                current_sibling = current_sibling.sibling\n",
    "        node = create_node(root, item)\n",
    "        last_sibling.sibling = node        \n",
    "        return node"
   ]
  },
  {
   "cell_type": "code",
   "execution_count": 8,
   "metadata": {},
   "outputs": [],
   "source": [
    "def pre_post(root, pre=0, post=0):\n",
    "    root.pre_order = pre\n",
    "    post_ = post\n",
    "    if root.child is not None:\n",
    "        root.child.pre_order = pre + 1\n",
    "        pre, post_ = pre_post(root.child, root.child.pre_order, post)\n",
    "    root.post_order = post_\n",
    "    if root.sibling is not None:\n",
    "        root.sibling.pre_order = pre + 1\n",
    "        pre, post_ = pre_post(root.sibling, root.sibling.pre_order, root.post_order + 1)\n",
    "        return pre, post_\n",
    "    return pre, post_ + 1    "
   ]
  },
  {
   "cell_type": "code",
   "execution_count": 11,
   "metadata": {},
   "outputs": [
    {
     "name": "stdout",
     "output_type": "stream",
     "text": [
      "removed: 7\n"
     ]
    }
   ],
   "source": [
    "def build_ppc_tree(filename, itemset_1):\n",
    "    root = PPCNode()\n",
    "    with open(filename) as finput:\n",
    "        f = finput.read().split('\\n')\n",
    "        for line in f:\n",
    "            items = line.strip().split(' ')            \n",
    "            transaction = []\n",
    "            for item in items:\n",
    "                if item in list(itemset_1.keys()):\n",
    "                    transaction.append((item, itemset_1[item]))\n",
    "                else:\n",
    "                    print('removed:', item)\n",
    "            transaction.sort(key=lambda x: x[1], reverse=True)\n",
    "            root_aux = root\n",
    "            for item in transaction:\n",
    "                root_aux = insert_ppc_node(root_aux, item[0])\n",
    "    pre_post(root)\n",
    "    return root\n",
    "\n",
    "\n",
    "tree = build_ppc_tree(input_file, itemset_1)"
   ]
  },
  {
   "cell_type": "code",
   "execution_count": 12,
   "metadata": {},
   "outputs": [],
   "source": [
    "def print_tree(root):\n",
    "    print(root.label, root.pre_order, root.post_order)\n",
    "    if root.child:\n",
    "        print_tree(root.child)\n",
    "    if root.sibling:\n",
    "        print_tree(root.sibling)"
   ]
  },
  {
   "cell_type": "code",
   "execution_count": 13,
   "metadata": {},
   "outputs": [],
   "source": [
    "def make_n_list(root, n_list={}):\n",
    "    if root.label:\n",
    "        if root.label not in n_list:\n",
    "            n_list[root.label] = []\n",
    "        n_list[root.label].append(((root.pre_order, root.post_order), root.count))\n",
    "    if root.child:\n",
    "        make_n_list(root.child, n_list)\n",
    "    if root.sibling:\n",
    "        make_n_list(root.sibling, n_list)"
   ]
  },
  {
   "cell_type": "code",
   "execution_count": 14,
   "metadata": {},
   "outputs": [
    {
     "data": {
      "text/plain": [
       "{'2': [((1, 7), 9)],\n",
       " '3': [((2, 2), 5), ((9, 10), 2)],\n",
       " '4': [((3, 0), 2), ((7, 5), 1), ((10, 9), 2)],\n",
       " '5': [((4, 1), 2), ((5, 6), 4)],\n",
       " '1': [((6, 3), 1), ((8, 4), 1)],\n",
       " '6': [((11, 8), 2)]}"
      ]
     },
     "execution_count": 14,
     "metadata": {},
     "output_type": "execute_result"
    }
   ],
   "source": [
    "n_list = {}\n",
    "make_n_list(tree, n_list)\n",
    "n_list"
   ]
  },
  {
   "cell_type": "code",
   "execution_count": 15,
   "metadata": {},
   "outputs": [
    {
     "data": {
      "text/plain": [
       "['2', '3', '5', '4', '1', '6']"
      ]
     },
     "execution_count": 15,
     "metadata": {},
     "output_type": "execute_result"
    }
   ],
   "source": [
    "F = list(itemset_1.items())\n",
    "F.sort(key=lambda x: x[1], reverse=True)\n",
    "items_ordered = [x[0] for x in F]\n",
    "items_ordered"
   ]
  },
  {
   "cell_type": "code",
   "execution_count": 16,
   "metadata": {},
   "outputs": [
    {
     "data": {
      "text/plain": [
       "[('2', 9), ('3', 7), ('5', 6), ('4', 5), ('1', 2), ('6', 2)]"
      ]
     },
     "execution_count": 16,
     "metadata": {},
     "output_type": "execute_result"
    }
   ],
   "source": [
    "F"
   ]
  },
  {
   "cell_type": "code",
   "execution_count": 17,
   "metadata": {},
   "outputs": [],
   "source": [
    "def NL_interserction(n_list1, n_list2, minsup):\n",
    "    n_list_result = []\n",
    "    for k in n_list1:\n",
    "        for l in n_list2:\n",
    "            if k[0][0] < l[0][0] and k[0][1] > l[0][1]:                 \n",
    "                n_list_result.append((k[0], l[1]))\n",
    "    d = {x:0 for x, _ in n_list_result} \n",
    "    for name, num in n_list_result: d[name] += num \n",
    "    n_list_result = list(map(tuple, d.items()))\n",
    "    n_list_result = list(filter(lambda x: x[1] >= minsup, n_list_result))\n",
    "    return n_list_result"
   ]
  },
  {
   "cell_type": "code",
   "execution_count": 19,
   "metadata": {},
   "outputs": [],
   "source": [
    "def make_n2_list(n_list, items_ordered):\n",
    "    global support\n",
    "    global F\n",
    "    n2_list = {}\n",
    "    for i, x in enumerate(items_ordered):\n",
    "        for j in range(i+1, len(items_ordered)):\n",
    "            n_list_result = NL_interserction(n_list[x], n_list[items_ordered[j]], support)\n",
    "            if len(n_list_result) > 0:\n",
    "                key = '-'.join([x, items_ordered[j][0]])\n",
    "                n2_list[key] = n_list_result\n",
    "    return n2_list"
   ]
  },
  {
   "cell_type": "code",
   "execution_count": 21,
   "metadata": {},
   "outputs": [
    {
     "data": {
      "text/plain": [
       "{'2-3': [((1, 7), 5)],\n",
       " '2-5': [((1, 7), 6)],\n",
       " '2-4': [((1, 7), 3)],\n",
       " '2-1': [((1, 7), 2)],\n",
       " '3-5': [((2, 2), 2)],\n",
       " '3-4': [((2, 2), 2), ((9, 10), 2)],\n",
       " '3-6': [((9, 10), 2)],\n",
       " '5-1': [((5, 6), 2)],\n",
       " '4-6': [((10, 9), 2)]}"
      ]
     },
     "execution_count": 21,
     "metadata": {},
     "output_type": "execute_result"
    }
   ],
   "source": [
    "n2_list = make_n2_list(n_list, items_ordered)\n",
    "n2_list"
   ]
  },
  {
   "cell_type": "code",
   "execution_count": 22,
   "metadata": {},
   "outputs": [],
   "source": [
    "all_n_list = copy.deepcopy(n2_list)"
   ]
  },
  {
   "cell_type": "code",
   "execution_count": 23,
   "metadata": {},
   "outputs": [],
   "source": [
    "def find_subsets(items, n):\n",
    "    return list(itertools.combinations(items, n))\n",
    "\n",
    "\n",
    "def get_all_subsets(items):\n",
    "    subsets = [find_subsets(items, i) for i in range(len(items)+1)]\n",
    "    subsets = ['-'.join(map(str, item)) for item in list(itertools.chain.from_iterable(subsets))]\n",
    "    return subsets[1:]"
   ]
  },
  {
   "cell_type": "code",
   "execution_count": 24,
   "metadata": {},
   "outputs": [],
   "source": [
    "def get_n_list(key):\n",
    "    global all_n_list\n",
    "    return all_n_list[key] if key in all_n_list else []"
   ]
  },
  {
   "cell_type": "code",
   "execution_count": 25,
   "metadata": {},
   "outputs": [],
   "source": [
    "def building_pattern_tree(node, cad_items, parent_fit):\n",
    "    global support\n",
    "    global all_n_list\n",
    "    global F\n",
    "    \n",
    "    node.equivalent_items = []\n",
    "    node.child_nodes = []\n",
    "    next_cad_items = []    \n",
    "    p1 = node.itemset\n",
    "    p1_n_list = get_n_list('-'.join(p1))\n",
    "    for item in cad_items:\n",
    "        p2 = [item] + p1[1:]\n",
    "        p = [item] + p1\n",
    "        p2_n_list = get_n_list('-'.join(p2))        \n",
    "        p_n_list = NL_interserction(p2_n_list, p1_n_list, support)\n",
    "        p_support = sum([item[1] for item in p_n_list])\n",
    "        p_key = '-'.join(p)\n",
    "        \n",
    "        if len(p_n_list) > 0: # add n_list for new k-itemset            \n",
    "            if p_key not in all_n_list:\n",
    "                all_n_list[p_key] = []\n",
    "            all_n_list[p_key] += p_n_list\n",
    "            \n",
    "        if p_support == node.support:\n",
    "            node.equivalent_items += [item]\n",
    "        elif p_support >= support:\n",
    "            node_ = FPTNode()\n",
    "            node_.label = item\n",
    "            node_.itemset = p\n",
    "            node_.support = p_support\n",
    "            node.child_nodes += [node_]\n",
    "            next_cad_items += [item]\n",
    "    \n",
    "    nd_fit = []        \n",
    "    if len(node.equivalent_items) > 0:\n",
    "        subsets = get_all_subsets(node.equivalent_items)\n",
    "        cand_itemsets = [('-'.join([item, node.label]), node.support) for item in subsets]\n",
    "        if len(parent_fit) == 0:\n",
    "            nd_fit = cand_itemsets\n",
    "        else:\n",
    "            nd_fit = []\n",
    "            for cand_item in cand_itemsets:\n",
    "                for parent_item in parent_fit:\n",
    "                    nd_fit.append(('-'.join([cand_item[0], parent_item[0]]), node.support))\n",
    "                    \n",
    "        F += nd_fit\n",
    "    if len(node.child_nodes) > 0:\n",
    "        for n in node.child_nodes:\n",
    "            aheads_ = [i for i in items_ordered[:items_ordered.index(n.label)] if i in next_cad_items]\n",
    "            if aheads_ == []:\n",
    "                F.append(('-'.join(n.itemset), n.support))\n",
    "            else:\n",
    "                building_pattern_tree(n, aheads_, nd_fit)"
   ]
  },
  {
   "cell_type": "code",
   "execution_count": 26,
   "metadata": {
    "scrolled": true
   },
   "outputs": [],
   "source": [
    "for key, n_list in list(n2_list.items()):\n",
    "    item = key[:key.index('-')]\n",
    "    aheads = items_ordered[:items_ordered.index(item)]\n",
    "    node = FPTNode()\n",
    "    node.label = key\n",
    "    node.itemset = key.split('-')\n",
    "    node.support = sum([item[1] for item in n_list])\n",
    "    F.append((key, node.support))\n",
    "    building_pattern_tree(node, aheads, [])"
   ]
  },
  {
   "cell_type": "code",
   "execution_count": 27,
   "metadata": {},
   "outputs": [
    {
     "data": {
      "text/plain": [
       "[('2', 9),\n",
       " ('3', 7),\n",
       " ('5', 6),\n",
       " ('4', 5),\n",
       " ('1', 2),\n",
       " ('6', 2),\n",
       " ('2-3', 5),\n",
       " ('2-5', 6),\n",
       " ('2-4', 3),\n",
       " ('2-1', 2),\n",
       " ('3-5', 2),\n",
       " ('2-3-5', 2),\n",
       " ('3-4', 4),\n",
       " ('2-3-4', 2),\n",
       " ('3-6', 2),\n",
       " ('5-1', 2),\n",
       " ('2-5-1', 2),\n",
       " ('4-6', 2),\n",
       " ('3-4-6', 2)]"
      ]
     },
     "execution_count": 27,
     "metadata": {},
     "output_type": "execute_result"
    }
   ],
   "source": [
    "F"
   ]
  },
  {
   "cell_type": "code",
   "execution_count": 28,
   "metadata": {},
   "outputs": [
    {
     "data": {
      "text/plain": [
       "{'2-3': [((1, 7), 5)],\n",
       " '2-5': [((1, 7), 6)],\n",
       " '2-4': [((1, 7), 3)],\n",
       " '2-1': [((1, 7), 2)],\n",
       " '3-5': [((2, 2), 2)],\n",
       " '3-4': [((2, 2), 2), ((9, 10), 2)],\n",
       " '3-6': [((9, 10), 2)],\n",
       " '5-1': [((5, 6), 2)],\n",
       " '4-6': [((10, 9), 2)]}"
      ]
     },
     "execution_count": 28,
     "metadata": {},
     "output_type": "execute_result"
    }
   ],
   "source": [
    "n2_list"
   ]
  },
  {
   "cell_type": "code",
   "execution_count": 29,
   "metadata": {},
   "outputs": [
    {
     "data": {
      "text/plain": [
       "['2', '3', '5', '4', '1', '6']"
      ]
     },
     "execution_count": 29,
     "metadata": {},
     "output_type": "execute_result"
    }
   ],
   "source": [
    "items_ordered"
   ]
  }
 ],
 "metadata": {
  "kernelspec": {
   "display_name": "Python 3",
   "language": "python",
   "name": "python3"
  },
  "language_info": {
   "codemirror_mode": {
    "name": "ipython",
    "version": 3
   },
   "file_extension": ".py",
   "mimetype": "text/x-python",
   "name": "python",
   "nbconvert_exporter": "python",
   "pygments_lexer": "ipython3",
   "version": "3.6.1"
  }
 },
 "nbformat": 4,
 "nbformat_minor": 2
}
